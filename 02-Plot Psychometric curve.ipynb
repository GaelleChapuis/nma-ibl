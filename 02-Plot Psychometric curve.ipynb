{
 "cells": [
  {
   "cell_type": "markdown",
   "metadata": {},
   "source": [
    "This notebook shows how to plot the psychometric curve of the data in a session from the IBL DataJoint database"
   ]
  },
  {
   "cell_type": "markdown",
   "metadata": {},
   "source": [
    "Here we first import datajoint, modules from the ibl pipeline and some other modules. Please fill in your password below:"
   ]
  },
  {
   "cell_type": "code",
   "execution_count": null,
   "metadata": {},
   "outputs": [],
   "source": [
    "import datajoint as dj\n",
    "\n",
    "dj.config['database.host'] = 'datajoint-public.internationalbrainlab.org'\n",
    "dj.config['database.user'] = 'neuromatch'\n",
    "dj.config['database.password'] = '{PASSWORD}'\n",
    "dj.conn()"
   ]
  },
  {
   "cell_type": "code",
   "execution_count": null,
   "metadata": {
    "tags": []
   },
   "outputs": [],
   "source": [
    "# behavior data\n",
    "from nma_ibl import behavior\n",
    "\n",
    "# analyzed result of behavioral data\n",
    "from nma_ibl import behavior_analyses\n",
    "\n",
    "# meta information of the subject and session\n",
    "from nma_ibl import subject, acquisition\n",
    "\n",
    "# Function to perform the model fits of the psychometric function\n",
    "from nma_ibl import psychofit as psy\n",
    "\n",
    "# some regular modules\n",
    "import numpy as np\n",
    "import datetime\n",
    "import seaborn as sns \n",
    "import matplotlib.pyplot as plt"
   ]
  },
  {
   "cell_type": "code",
   "execution_count": null,
   "metadata": {},
   "outputs": [],
   "source": [
    "%matplotlib notebook"
   ]
  },
  {
   "cell_type": "markdown",
   "metadata": {},
   "source": [
    "The fit results of the psychometric curve are saved in the table `behavior_analyses.PsychResultsBlock`, we can browse entries in the table for a particular subject, the prob_left_block marks which prior of probability left have been used in the block"
   ]
  },
  {
   "cell_type": "code",
   "execution_count": null,
   "metadata": {},
   "outputs": [],
   "source": [
    "q = behavior_analyses.PsychResultsBlock & (subject.Subject & 'subject_nickname=\"CSHL_015\"')"
   ]
  },
  {
   "cell_type": "markdown",
   "metadata": {},
   "source": [
    "Let's check the results of sessions collected after 2019-09-15, by:"
   ]
  },
  {
   "cell_type": "code",
   "execution_count": null,
   "metadata": {},
   "outputs": [],
   "source": [
    "q & 'session_start_time > \"2019-09-15\"'"
   ]
  },
  {
   "cell_type": "markdown",
   "metadata": {},
   "source": [
    "Let's plot the psychometric curve of the last session on 9/17, containing three blocks with `prob_left` 0.2, 0.5 and 0.8"
   ]
  },
  {
   "cell_type": "code",
   "execution_count": null,
   "metadata": {},
   "outputs": [],
   "source": [
    "psych_results = q & {'session_start_time': datetime.datetime(2019, 9, 16, 13, 44, 46)}"
   ]
  },
  {
   "cell_type": "markdown",
   "metadata": {},
   "source": [
    "Now let's fetch the fit parameters and behavioral statistics from the table as a list of dictionaries."
   ]
  },
  {
   "cell_type": "code",
   "execution_count": null,
   "metadata": {},
   "outputs": [],
   "source": [
    "dict_results = psych_results.fetch(\n",
    "    'signed_contrasts', 'prob_choose_right', 'n_trials_stim', 'n_trials_stim_right',\n",
    "    'threshold', 'bias', 'lapse_low', 'lapse_high', as_dict=True)"
   ]
  },
  {
   "cell_type": "markdown",
   "metadata": {},
   "source": [
    "Next let's loop through the blocks and plot the psychometric curves:"
   ]
  },
  {
   "cell_type": "code",
   "execution_count": null,
   "metadata": {},
   "outputs": [],
   "source": [
    "colors = [[1., 0., 0.], [0., 0., 0.], [0., 0., 1.]]\n",
    "for result, color in zip(dict_results, colors):\n",
    "    pars = [result['bias'], result['threshold'], result['lapse_low'], result['lapse_high']]\n",
    "    contrasts = result['signed_contrasts'] * 100\n",
    "    contrasts_fit = np.arange(-100, 100)\n",
    "    prob_right_fit = psy.erf_psycho_2gammas(pars, contrasts_fit) *100\n",
    "    sns.lineplot(contrasts_fit, prob_right_fit, color=color)\n",
    "    sns.lineplot(x=contrasts, y=result['prob_choose_right']*100, err_style=\"bars\", linewidth=0, linestyle='None', mew=0.5,\n",
    "            marker='.', ci=68, color=color)\n",
    "\n",
    "plt.gca().set_xlabel('Signed Contrast (%)')\n",
    "plt.gca().set_ylabel('Rightward Choice (%)')"
   ]
  },
  {
   "cell_type": "code",
   "execution_count": null,
   "metadata": {},
   "outputs": [],
   "source": []
  }
 ],
 "metadata": {
  "kernelspec": {
   "display_name": "env",
   "language": "python",
   "name": "env"
  },
  "language_info": {
   "codemirror_mode": {
    "name": "ipython",
    "version": 3
   },
   "file_extension": ".py",
   "mimetype": "text/x-python",
   "name": "python",
   "nbconvert_exporter": "python",
   "pygments_lexer": "ipython3",
   "version": "3.7.3"
  }
 },
 "nbformat": 4,
 "nbformat_minor": 2
}
